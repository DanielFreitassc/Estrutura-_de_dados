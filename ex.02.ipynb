{
 "cells": [
  {
   "cell_type": "code",
   "execution_count": 15,
   "metadata": {},
   "outputs": [
    {
     "data": {
      "text/plain": [
       "False"
      ]
     },
     "execution_count": 15,
     "metadata": {},
     "output_type": "execute_result"
    }
   ],
   "source": [
    "class Respiracao:\n",
    "    \n",
    "    def inspira(self):\n",
    "        self.pulmao_cheio = True\n",
    "        return self.pulmao_cheio\n",
    "    def expira(self):\n",
    "        self.pulmao_cheio = False \n",
    "        return self.pulmao_cheio \n",
    "nova_respiracao = Respiracao()\n",
    "nova_respiracao.inspira() \n",
    "nova_respiracao.expira()   "
   ]
  },
  {
   "cell_type": "code",
   "execution_count": null,
   "metadata": {},
   "outputs": [],
   "source": [
    "idade = 20\n",
    "nome = \"Daniel\"\n",
    "signo = \"Aquario\"\n",
    "padrinho = \"Fulano\"\n",
    "madrinha = \"Ciclana\"\n",
    "pessoa = Nascimento()\n",
    "pessoa.nascimento(idade, nome, signo, padrinho, madrinha)\n",
    "pessoa.nome"
   ]
  },
  {
   "cell_type": "code",
   "execution_count": null,
   "metadata": {},
   "outputs": [],
   "source": [
    "class Nascimento:\n",
    "    \n",
    "    def __init__(self, nome, signo):\n",
    "        self.idade = 0\n",
    "        self.nome = nome\n",
    "        self.signo = signo\n",
    "        self.padrinho = \"\"\n",
    "        self.madrinha = \"\"\n",
    "    def batizado(padrinho,madrinha):\n",
    "        self.padrinho = padrinho\n",
    "        self.madrina = madrinha\n",
    "pessoa = Nascimento(\"Daniel\", \"Aquario\")\n",
    "pessoa.idade\n",
    "pessoa.batizado(\"Fulano\", \"Ciclano\")\n",
    "pessoa.padrinho"
   ]
  }
 ],
 "metadata": {
  "kernelspec": {
   "display_name": "Python 3",
   "language": "python",
   "name": "python3"
  },
  "language_info": {
   "codemirror_mode": {
    "name": "ipython",
    "version": 3
   },
   "file_extension": ".py",
   "mimetype": "text/x-python",
   "name": "python",
   "nbconvert_exporter": "python",
   "pygments_lexer": "ipython3",
   "version": "3.11.1"
  },
  "orig_nbformat": 4,
  "vscode": {
   "interpreter": {
    "hash": "5238573367df39f7286bb46f9ff5f08f63a01a80960060ce41e3c79b190280fa"
   }
  }
 },
 "nbformat": 4,
 "nbformat_minor": 2
}
