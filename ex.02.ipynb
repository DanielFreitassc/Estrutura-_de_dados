{
 "cells": [
  {
   "cell_type": "code",
   "execution_count": 15,
   "metadata": {},
   "outputs": [
    {
     "data": {
      "text/plain": [
       "False"
      ]
     },
     "execution_count": 15,
     "metadata": {},
     "output_type": "execute_result"
    }
   ],
   "source": [
    "class Respiracao:\n",
    "    \n",
    "    def inspira(self):\n",
    "        self.pulmao_cheio = True\n",
    "        return self.pulmao_cheio\n",
    "    def expira(self):\n",
    "        self.pulmao_cheio = False \n",
    "        return self.pulmao_cheio \n",
    "nova_respiracao = Respiracao()\n",
    "nova_respiracao.inspira() \n",
    "nova_respiracao.expira()   "
   ]
  },
  {
   "cell_type": "code",
   "execution_count": 19,
   "metadata": {},
   "outputs": [
    {
     "ename": "TypeError",
     "evalue": "'int' object is not callable",
     "output_type": "error",
     "traceback": [
      "\u001b[1;31m---------------------------------------------------------------------------\u001b[0m",
      "\u001b[1;31mTypeError\u001b[0m                                 Traceback (most recent call last)",
      "Cell \u001b[1;32mIn[19], line 6\u001b[0m\n\u001b[0;32m      4\u001b[0m padrinho \u001b[39m=\u001b[39m \u001b[39m\"\u001b[39m\u001b[39mFulano\u001b[39m\u001b[39m\"\u001b[39m\n\u001b[0;32m      5\u001b[0m madrinha \u001b[39m=\u001b[39m \u001b[39m\"\u001b[39m\u001b[39mCiclana\u001b[39m\u001b[39m\"\u001b[39m\n\u001b[1;32m----> 6\u001b[0m pessoa \u001b[39m=\u001b[39m Nascimento(\u001b[39m20\u001b[39;49m)\n\u001b[0;32m      7\u001b[0m pessoa\u001b[39m.\u001b[39mnascimento(idade, nome, signo, padrinho, madrinha)\n\u001b[0;32m      8\u001b[0m pessoa\u001b[39m.\u001b[39mnome\n",
      "\u001b[1;31mTypeError\u001b[0m: 'int' object is not callable"
     ]
    }
   ],
   "source": [
    "idade = 20\n",
    "nome = \"Daniel\"\n",
    "signo = \"Aquario\"\n",
    "padrinho = \"Fulano\"\n",
    "madrinha = \"Ciclana\"\n",
    "pessoa = Nascimento()\n",
    "pessoa.nascimento(idade, nome, signo, padrinho, madrinha)\n",
    "pessoa.nome"
   ]
  }
 ],
 "metadata": {
  "kernelspec": {
   "display_name": "Python 3",
   "language": "python",
   "name": "python3"
  },
  "language_info": {
   "codemirror_mode": {
    "name": "ipython",
    "version": 3
   },
   "file_extension": ".py",
   "mimetype": "text/x-python",
   "name": "python",
   "nbconvert_exporter": "python",
   "pygments_lexer": "ipython3",
   "version": "3.11.1"
  },
  "orig_nbformat": 4,
  "vscode": {
   "interpreter": {
    "hash": "5238573367df39f7286bb46f9ff5f08f63a01a80960060ce41e3c79b190280fa"
   }
  }
 },
 "nbformat": 4,
 "nbformat_minor": 2
}
