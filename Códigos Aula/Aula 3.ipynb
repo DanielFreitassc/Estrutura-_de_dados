{
 "cells": [
  {
   "cell_type": "markdown",
   "metadata": {},
   "source": [
    "#### Criando a primeira classe "
   ]
  },
  {
   "cell_type": "code",
   "execution_count": 17,
   "metadata": {},
   "outputs": [],
   "source": [
    "class Eletrodomestico():\n",
    "    \n",
    "    def __init__(self, estado):\n",
    "        self.estado = estado\n",
    "        \n",
    "    def liga(self):\n",
    "        self.estado = 'Ligado';\n",
    "        \n",
    "    def desliga(self):\n",
    "        self.estado = 'Desligado';\n"
   ]
  },
  {
   "cell_type": "code",
   "execution_count": 18,
   "metadata": {},
   "outputs": [],
   "source": [
    "eletro = Eletrodomestico('Desligado')"
   ]
  },
  {
   "cell_type": "code",
   "execution_count": 19,
   "metadata": {},
   "outputs": [
    {
     "data": {
      "text/plain": [
       "'Desligado'"
      ]
     },
     "execution_count": 19,
     "metadata": {},
     "output_type": "execute_result"
    }
   ],
   "source": [
    "eletro.estado"
   ]
  },
  {
   "cell_type": "code",
   "execution_count": 20,
   "metadata": {},
   "outputs": [],
   "source": [
    "eletro.liga()"
   ]
  },
  {
   "cell_type": "code",
   "execution_count": 21,
   "metadata": {},
   "outputs": [
    {
     "data": {
      "text/plain": [
       "'Ligado'"
      ]
     },
     "execution_count": 21,
     "metadata": {},
     "output_type": "execute_result"
    }
   ],
   "source": [
    "eletro.estado"
   ]
  },
  {
   "cell_type": "markdown",
   "metadata": {},
   "source": [
    "#### Criando a classe filha "
   ]
  },
  {
   "cell_type": "code",
   "execution_count": 28,
   "metadata": {},
   "outputs": [],
   "source": [
    "class tv(eletrodomestico):\n",
    "    \n",
    "    def __init__(self, estado):\n",
    "        super().__init__(estado)\n",
    "        self.canal = '3'\n",
    "        \n",
    "    def trocarCanal (self, canal):\n",
    "        if self.estado == 'Ligado':\n",
    "            self.canal = canal\n",
    "        else:\n",
    "            print('Televisão Desligado')"
   ]
  },
  {
   "cell_type": "code",
   "execution_count": 29,
   "metadata": {},
   "outputs": [],
   "source": [
    "televisao = tv('Ligado')"
   ]
  },
  {
   "cell_type": "code",
   "execution_count": 30,
   "metadata": {},
   "outputs": [],
   "source": [
    "televisao.desliga()"
   ]
  },
  {
   "cell_type": "code",
   "execution_count": 31,
   "metadata": {},
   "outputs": [
    {
     "data": {
      "text/plain": [
       "'Desligado'"
      ]
     },
     "execution_count": 31,
     "metadata": {},
     "output_type": "execute_result"
    }
   ],
   "source": [
    "televisao.estado"
   ]
  },
  {
   "cell_type": "code",
   "execution_count": 32,
   "metadata": {},
   "outputs": [
    {
     "name": "stdout",
     "output_type": "stream",
     "text": [
      "Televisão Desligado\n"
     ]
    }
   ],
   "source": [
    "televisao.trocarCanal('7')"
   ]
  },
  {
   "cell_type": "markdown",
   "metadata": {},
   "source": [
    "#### AGORA FAÇAM PARA AS OUTRAS CLASSES (Rádio, Geladeira) "
   ]
  },
  {
   "cell_type": "markdown",
   "metadata": {},
   "source": [
    "#### Segundo Exemplo "
   ]
  },
  {
   "cell_type": "code",
   "execution_count": 48,
   "metadata": {},
   "outputs": [],
   "source": [
    "class Tv(eletrodomestico):\n",
    "    \n",
    "    def __init__(self, estado):\n",
    "        super().__init__(estado)\n",
    "        self.canal = '3'\n",
    "        \n",
    "    def trocarCanal (self, canal):\n",
    "        if self.estado == 'Ligado':\n",
    "            self.canal = canal\n",
    "        else:\n",
    "            print('Televisão Desligado')\n",
    "            \n",
    "    def liga (self):\n",
    "        if self.estado == 'Ligado':\n",
    "            print('Televisão Já Está Ligada')\n",
    "        else:\n",
    "            print('Televisão Desligado')"
   ]
  },
  {
   "cell_type": "code",
   "execution_count": 49,
   "metadata": {},
   "outputs": [],
   "source": [
    "novaTv = Tv('Ligado')"
   ]
  },
  {
   "cell_type": "code",
   "execution_count": 50,
   "metadata": {},
   "outputs": [
    {
     "name": "stdout",
     "output_type": "stream",
     "text": [
      "Televisão Já Está Ligada\n"
     ]
    }
   ],
   "source": [
    "novaTv.liga()"
   ]
  },
  {
   "cell_type": "code",
   "execution_count": 36,
   "metadata": {},
   "outputs": [],
   "source": [
    "novoEletro = eletrodomestico('Ligado')"
   ]
  },
  {
   "cell_type": "code",
   "execution_count": 37,
   "metadata": {},
   "outputs": [],
   "source": [
    "novoEletro.liga()"
   ]
  },
  {
   "cell_type": "markdown",
   "metadata": {},
   "source": [
    "#### Terceiro Exemplo"
   ]
  },
  {
   "cell_type": "code",
   "execution_count": 64,
   "metadata": {},
   "outputs": [],
   "source": [
    "class Eletrodomestico(object):\n",
    "    \n",
    "    def __init__(self, estado):\n",
    "        self.estado = estado\n",
    "        \n",
    "    def liga(self):\n",
    "        self.estado = 'Ligado';\n",
    "        \n",
    "    def desliga(self):\n",
    "        self.estado = 'Desligado';"
   ]
  },
  {
   "cell_type": "code",
   "execution_count": 65,
   "metadata": {},
   "outputs": [],
   "source": [
    "class Telefone(eletrodomestico):\n",
    "    \n",
    "    def __init__(self, estado, numero):\n",
    "        Eletrodomestico.__init__(self, estado)\n",
    "        self.numero = numero\n",
    "        \n",
    "    def chamarOutro(self, outroNumero):\n",
    "        print('Chamando ', outroNumero)"
   ]
  },
  {
   "cell_type": "code",
   "execution_count": 66,
   "metadata": {},
   "outputs": [],
   "source": [
    "telefone = Telefone('Ligado', '996309591')"
   ]
  },
  {
   "cell_type": "code",
   "execution_count": 67,
   "metadata": {},
   "outputs": [
    {
     "name": "stdout",
     "output_type": "stream",
     "text": [
      "Chamando  911497878\n"
     ]
    }
   ],
   "source": [
    "telefone.chamarOutro('911497878')"
   ]
  },
  {
   "cell_type": "code",
   "execution_count": 78,
   "metadata": {},
   "outputs": [],
   "source": [
    "class Smartphone(Telefone):\n",
    "    \n",
    "    def __init__(self, estado, numero, so):\n",
    "        Telefone.__init__(self, estado, numero)\n",
    "        self.so = so\n",
    "        \n",
    "    def instalarApp(self, nome):\n",
    "        print('Instalando ', nome)"
   ]
  },
  {
   "cell_type": "code",
   "execution_count": 79,
   "metadata": {},
   "outputs": [],
   "source": [
    "smartphone = Smartphone('Ligado', '996309591', 'Android')"
   ]
  },
  {
   "cell_type": "code",
   "execution_count": 81,
   "metadata": {},
   "outputs": [
    {
     "data": {
      "text/plain": [
       "'Android'"
      ]
     },
     "execution_count": 81,
     "metadata": {},
     "output_type": "execute_result"
    }
   ],
   "source": [
    "smartphone.so"
   ]
  },
  {
   "cell_type": "code",
   "execution_count": 82,
   "metadata": {},
   "outputs": [
    {
     "name": "stdout",
     "output_type": "stream",
     "text": [
      "Chamando  99293848\n"
     ]
    }
   ],
   "source": [
    "smartphone.chamarOutro('99293848')"
   ]
  },
  {
   "cell_type": "code",
   "execution_count": 84,
   "metadata": {},
   "outputs": [
    {
     "data": {
      "text/plain": [
       "'Ligado'"
      ]
     },
     "execution_count": 84,
     "metadata": {},
     "output_type": "execute_result"
    }
   ],
   "source": [
    "smartphone.estado"
   ]
  }
 ],
 "metadata": {
  "kernelspec": {
   "display_name": "Python 3 (ipykernel)",
   "language": "python",
   "name": "python3"
  },
  "language_info": {
   "codemirror_mode": {
    "name": "ipython",
    "version": 3
   },
   "file_extension": ".py",
   "mimetype": "text/x-python",
   "name": "python",
   "nbconvert_exporter": "python",
   "pygments_lexer": "ipython3",
   "version": "3.9.7"
  }
 },
 "nbformat": 4,
 "nbformat_minor": 4
}
